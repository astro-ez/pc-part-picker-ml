{
 "cells": [
  {
   "cell_type": "code",
   "execution_count": 2,
   "id": "c9db1439",
   "metadata": {},
   "outputs": [
    {
     "name": "stderr",
     "output_type": "stream",
     "text": [
      "Generating train split: 49200 examples [00:00, 548372.65 examples/s]\n",
      "Map: 100%|██████████| 49200/49200 [00:01<00:00, 27098.52 examples/s]\n",
      "Some weights of DistilBertForSequenceClassification were not initialized from the model checkpoint at distilbert-base-uncased and are newly initialized: ['classifier.bias', 'classifier.weight', 'pre_classifier.bias', 'pre_classifier.weight']\n",
      "You should probably TRAIN this model on a down-stream task to be able to use it for predictions and inference.\n",
      "C:\\Users\\LAPTOP SPIRIT\\AppData\\Local\\Temp\\ipykernel_15412\\3558886553.py:54: FutureWarning: `tokenizer` is deprecated and will be removed in version 5.0.0 for `Trainer.__init__`. Use `processing_class` instead.\n",
      "  trainer = Trainer(\n"
     ]
    },
    {
     "data": {
      "text/html": [
       "\n",
       "    <div>\n",
       "      \n",
       "      <progress value='12300' max='12300' style='width:300px; height:20px; vertical-align: middle;'></progress>\n",
       "      [12300/12300 3:32:06, Epoch 5/5]\n",
       "    </div>\n",
       "    <table border=\"1\" class=\"dataframe\">\n",
       "  <thead>\n",
       " <tr style=\"text-align: left;\">\n",
       "      <th>Epoch</th>\n",
       "      <th>Training Loss</th>\n",
       "      <th>Validation Loss</th>\n",
       "    </tr>\n",
       "  </thead>\n",
       "  <tbody>\n",
       "    <tr>\n",
       "      <td>1</td>\n",
       "      <td>0.002600</td>\n",
       "      <td>0.002323</td>\n",
       "    </tr>\n",
       "    <tr>\n",
       "      <td>2</td>\n",
       "      <td>0.004400</td>\n",
       "      <td>0.000853</td>\n",
       "    </tr>\n",
       "    <tr>\n",
       "      <td>3</td>\n",
       "      <td>0.000000</td>\n",
       "      <td>0.000990</td>\n",
       "    </tr>\n",
       "    <tr>\n",
       "      <td>4</td>\n",
       "      <td>0.000000</td>\n",
       "      <td>0.000551</td>\n",
       "    </tr>\n",
       "    <tr>\n",
       "      <td>5</td>\n",
       "      <td>0.000000</td>\n",
       "      <td>0.000523</td>\n",
       "    </tr>\n",
       "  </tbody>\n",
       "</table><p>"
      ],
      "text/plain": [
       "<IPython.core.display.HTML object>"
      ]
     },
     "metadata": {},
     "output_type": "display_data"
    },
    {
     "data": {
      "text/plain": [
       "('./bert-pcparts\\\\tokenizer_config.json',\n",
       " './bert-pcparts\\\\special_tokens_map.json',\n",
       " './bert-pcparts\\\\vocab.txt',\n",
       " './bert-pcparts\\\\added_tokens.json',\n",
       " './bert-pcparts\\\\tokenizer.json')"
      ]
     },
     "execution_count": 2,
     "metadata": {},
     "output_type": "execute_result"
    }
   ],
   "source": [
    "from datasets import load_dataset\n",
    "from transformers import AutoTokenizer, AutoModelForSequenceClassification, TrainingArguments, Trainer\n",
    "import pandas as pd\n",
    "\n",
    "# Load CSV into pandas\n",
    "df = pd.read_csv(\"../../shared/data/processed/pc-parts-processed.csv\")\n",
    "\n",
    "# Map categories to IDs\n",
    "label2id = {label: i for i, label in enumerate(sorted(df['part_type'].unique()))}\n",
    "id2label = {i: label for label, i in label2id.items()}\n",
    "df['label'] = df['part_type'].map(label2id)\n",
    "\n",
    "# Save updated CSV (HuggingFace datasets works better if the labels are already in the file)\n",
    "df.to_csv(\"../../shared/data/processed/pc-parts-processed-labeled.csv\", index=False)\n",
    "\n",
    "# Load with HuggingFace\n",
    "dataset = load_dataset('csv', data_files={'train': '../../shared/data/processed/pc-parts-processed-labeled.csv'})\n",
    "\n",
    "# Tokenizer\n",
    "model_name = \"distilbert-base-uncased\"\n",
    "tokenizer = AutoTokenizer.from_pretrained(model_name)\n",
    "\n",
    "def tokenize(batch):\n",
    "    return tokenizer(batch['part_name'], truncation=True, padding='longest', max_length=32)\n",
    "\n",
    "dataset = dataset.map(tokenize, batched=True)\n",
    "dataset = dataset.rename_column(\"label\", \"labels\")  # use the label column we created\n",
    "dataset.set_format(\"torch\", columns=['input_ids', 'attention_mask', 'labels'])\n",
    "\n",
    "dataset = dataset['train'].train_test_split(test_size=0.2)\n",
    "train_dataset = dataset['train']\n",
    "test_dataset = dataset['test']\n",
    "\n",
    "# Model\n",
    "model = AutoModelForSequenceClassification.from_pretrained(\n",
    "    model_name,\n",
    "    num_labels=len(label2id),\n",
    "    id2label=id2label,\n",
    "    label2id=label2id\n",
    ")\n",
    "\n",
    "# Training\n",
    "args = TrainingArguments(\n",
    "    output_dir=\"./bert-pcparts\",\n",
    "    eval_strategy=\"epoch\",\n",
    "    save_strategy=\"epoch\",\n",
    "    learning_rate=2e-5,\n",
    "    per_device_train_batch_size=16,\n",
    "    num_train_epochs=5,\n",
    "    weight_decay=0.01,\n",
    "    fp16=True\n",
    ")\n",
    "\n",
    "trainer = Trainer(\n",
    "    model=model,\n",
    "    args=args,\n",
    "    train_dataset=train_dataset,\n",
    "    eval_dataset=test_dataset,\n",
    "    tokenizer=tokenizer\n",
    ")\n",
    "\n",
    "trainer.train()\n",
    "\n",
    "# Save model\n",
    "trainer.save_model(\"./bert-pcparts\")\n",
    "tokenizer.save_pretrained(\"./bert-pcparts\")\n"
   ]
  },
  {
   "cell_type": "code",
   "execution_count": 13,
   "id": "d7a79211",
   "metadata": {},
   "outputs": [
    {
     "name": "stdout",
     "output_type": "stream",
     "text": [
      "Part Name: clés usb publicitaires \n",
      "Predicted Category: CASE\n"
     ]
    }
   ],
   "source": [
    "# Test the model\n",
    "import torch\n",
    "from transformers import AutoTokenizer, AutoModelForSequenceClassification\n",
    "\n",
    "# Load the trained model + tokenizer\n",
    "model_path = \"./bert-pcparts\"\n",
    "tokenizer = AutoTokenizer.from_pretrained(model_path)\n",
    "model = AutoModelForSequenceClassification.from_pretrained(model_path)\n",
    "\n",
    "# Manual input\n",
    "part_name = \"Clés USB publicitaires \".lower()\n",
    "\n",
    "# Tokenize\n",
    "inputs = tokenizer(part_name, return_tensors=\"pt\", truncation=True, padding='longest', max_length=32)\n",
    "\n",
    "# Predict\n",
    "with torch.no_grad():\n",
    "    outputs = model(**inputs)\n",
    "    logits = outputs.logits\n",
    "    predicted_class_id = logits.argmax(dim=-1).item()\n",
    "\n",
    "# Map back to label\n",
    "predicted_label = id2label[predicted_class_id]\n",
    "\n",
    "print(f\"Part Name: {part_name}\")\n",
    "print(f\"Predicted Category: {predicted_label}\")\n"
   ]
  }
 ],
 "metadata": {
  "kernelspec": {
   "display_name": "Python 3",
   "language": "python",
   "name": "python3"
  },
  "language_info": {
   "codemirror_mode": {
    "name": "ipython",
    "version": 3
   },
   "file_extension": ".py",
   "mimetype": "text/x-python",
   "name": "python",
   "nbconvert_exporter": "python",
   "pygments_lexer": "ipython3",
   "version": "3.11.4"
  }
 },
 "nbformat": 4,
 "nbformat_minor": 5
}
